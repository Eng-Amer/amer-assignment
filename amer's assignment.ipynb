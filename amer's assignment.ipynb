{
 "cells": [
  {
   "cell_type": "markdown",
   "metadata": {
    "id": "WNEWD9hoA2Lr"
   },
   "source": [
    "<img src=\"https://i.redd.it/6brfmxf7b8ga1.png\" alt=\"Italian Trulli\">\n"
   ]
  },
  {
   "cell_type": "markdown",
   "metadata": {
    "id": "ev3RXIw1Jas5"
   },
   "source": [
    "### Exercise on data types"
   ]
  },
  {
   "cell_type": "markdown",
   "metadata": {
    "id": "xSe8nXGyJs_j"
   },
   "source": [
    "## <font color='red'>What data type would that be?</font>"
   ]
  },
  {
   "cell_type": "markdown",
   "metadata": {
    "id": "j_-RJr75JlQr"
   },
   "source": [
    "#### x = 5\n",
    "#### print(type(x))\n",
    "integer"
   ]
  },
  {
   "cell_type": "markdown",
   "metadata": {
    "id": "9vglOoDPJ5Ou"
   },
   "source": [
    "#### x = \"Hello World\"\n",
    "#### print(type(x))\n",
    "string"
   ]
  },
  {
   "cell_type": "markdown",
   "metadata": {
    "id": "luhdBZJkKDMT"
   },
   "source": [
    "#### x = 20.5\n",
    "#### print(type(x))\n",
    "float"
   ]
  },
  {
   "cell_type": "markdown",
   "metadata": {
    "id": "N8OO1mGhKC9u"
   },
   "source": [
    "#### x = [\"apple\", \"banana\", \"cherry\"]\n",
    "#### print(type(x))\n",
    "list"
   ]
  },
  {
   "cell_type": "markdown",
   "metadata": {
    "id": "cvV5m5_FKC2Y"
   },
   "source": [
    "#### x = (\"apple\", \"banana\", \"cherry\")\n",
    "#### print(type(x))\n",
    "tuple"
   ]
  },
  {
   "cell_type": "markdown",
   "metadata": {
    "id": "v6tA1ZLGKSej"
   },
   "source": [
    "#### x = {\"name\" : \"John\", \"age\" : 36}\n",
    "#### print(type(x))    \n",
    "dictionary"
   ]
  },
  {
   "cell_type": "markdown",
   "metadata": {
    "id": "sWMa3--SKbOz"
   },
   "source": [
    "#### x = True\n",
    "#### print(type(x))\n",
    "boolean"
   ]
  },
  {
   "cell_type": "markdown",
   "metadata": {
    "id": "cV1O8CWnOD_A"
   },
   "source": [
    "## Exercise on Numbers"
   ]
  },
  {
   "cell_type": "markdown",
   "metadata": {
    "id": "66MX7NUrMOj9"
   },
   "source": [
    "#### Insert the correct syntax to convert x into a floating point number.\n",
    "\n"
   ]
  },
  {
   "cell_type": "code",
   "execution_count": 2,
   "metadata": {
    "id": "mbA3Hg9WKz4S"
   },
   "outputs": [
    {
     "name": "stdout",
     "output_type": "stream",
     "text": [
      "<class 'float'>\n"
     ]
    }
   ],
   "source": [
    "x = 5.2\n",
    "x =(x)\n",
    "print(type(x))"
   ]
  },
  {
   "cell_type": "markdown",
   "metadata": {
    "id": "PfSGwBekMbfe"
   },
   "source": [
    "### Insert the correct syntax to convert x into a integer.\n",
    "\n"
   ]
  },
  {
   "cell_type": "code",
   "execution_count": 4,
   "metadata": {
    "id": "4u7ID11XMZ1z"
   },
   "outputs": [
    {
     "name": "stdout",
     "output_type": "stream",
     "text": [
      "<class 'int'>\n"
     ]
    }
   ],
   "source": [
    " x = 5\n",
    " x =(x)\n",
    " print(type(x))"
   ]
  },
  {
   "cell_type": "markdown",
   "metadata": {
    "id": "QEHJkfIyOI3l"
   },
   "source": [
    "## Exercise on string"
   ]
  },
  {
   "cell_type": "markdown",
   "metadata": {
    "id": "vxDMzNuZM23J"
   },
   "source": [
    "### Use the `len()` function to print the length of the string.\n",
    "\n"
   ]
  },
  {
   "cell_type": "code",
   "execution_count": 10,
   "metadata": {
    "id": "LnECWV7kMwtZ"
   },
   "outputs": [
    {
     "name": "stdout",
     "output_type": "stream",
     "text": [
      "11\n"
     ]
    }
   ],
   "source": [
    "x = \"Hello World\"\n",
    "print(len(x))"
   ]
  },
  {
   "cell_type": "markdown",
   "metadata": {
    "id": "B3G8CsbwNBzE"
   },
   "source": [
    "### Get the first character of the string txt.\n",
    "\n"
   ]
  },
  {
   "cell_type": "code",
   "execution_count": 13,
   "metadata": {
    "id": "i82C_E7IM_N_"
   },
   "outputs": [
    {
     "name": "stdout",
     "output_type": "stream",
     "text": [
      "H\n"
     ]
    }
   ],
   "source": [
    "txt = \"Hello World\"\n",
    "x = txt[0]\n",
    "print(x)"
   ]
  },
  {
   "cell_type": "markdown",
   "metadata": {
    "id": "eujFCvXmNKL5"
   },
   "source": [
    "### Get the characters from index 2 to index 4 (llo).\n",
    "\n"
   ]
  },
  {
   "cell_type": "code",
   "execution_count": 24,
   "metadata": {
    "id": "Spath1coNHS1"
   },
   "outputs": [
    {
     "name": "stdout",
     "output_type": "stream",
     "text": [
      "llo\n"
     ]
    }
   ],
   "source": [
    "txt =\"Hello World\"\n",
    "x = txt[2:5]\n",
    "print(x)"
   ]
  },
  {
   "cell_type": "markdown",
   "metadata": {
    "id": "Rwv-8T_-NmeZ"
   },
   "source": [
    "##### Return the string without any whitespace at the beginning or the end.\n",
    "##### hint ` txt.strip()`\n"
   ]
  },
  {
   "cell_type": "code",
   "execution_count": 25,
   "metadata": {
    "id": "pg7InD_MNgBU"
   },
   "outputs": [
    {
     "data": {
      "text/plain": [
       "'Hello World'"
      ]
     },
     "execution_count": 25,
     "metadata": {},
     "output_type": "execute_result"
    }
   ],
   "source": [
    "# txt = \" Hello World \"\n",
    "# x =..................\n",
    "txt.strip()"
   ]
  },
  {
   "cell_type": "markdown",
   "metadata": {
    "id": "gpoiVkmQOSc2"
   },
   "source": [
    "### Convert the value of `txt` to upper case.\n",
    "\n"
   ]
  },
  {
   "cell_type": "code",
   "execution_count": 26,
   "metadata": {
    "id": "30sq8_UBOPpH"
   },
   "outputs": [
    {
     "name": "stdout",
     "output_type": "stream",
     "text": [
      "HELLO WORLD\n"
     ]
    }
   ],
   "source": [
    "txt = \"Hello World\"\n",
    "txt = txt.upper()\n",
    "print(txt)\n"
   ]
  },
  {
   "cell_type": "markdown",
   "metadata": {
    "id": "-UpA2zFdOedr"
   },
   "source": [
    "### Convert the value of `txt` to lower case.\n",
    "\n"
   ]
  },
  {
   "cell_type": "code",
   "execution_count": 27,
   "metadata": {
    "id": "eIYJ6Jp2OclU"
   },
   "outputs": [
    {
     "name": "stdout",
     "output_type": "stream",
     "text": [
      "hello world\n"
     ]
    }
   ],
   "source": [
    "txt = \"Hello World\"\n",
    "txt = txt.lower()\n",
    "print(txt)\n"
   ]
  },
  {
   "cell_type": "markdown",
   "metadata": {
    "id": "WGC7GEv4Op57"
   },
   "source": [
    "#### Replace the character` H` with a `J`"
   ]
  },
  {
   "cell_type": "code",
   "execution_count": 31,
   "metadata": {
    "id": "asaMSta8OuXu"
   },
   "outputs": [
    {
     "name": "stdout",
     "output_type": "stream",
     "text": [
      "aello World\n"
     ]
    }
   ],
   "source": [
    "txt = \"Hello World\"\n",
    "txt = txt.replace('H','a' )\n",
    "print(txt)"
   ]
  },
  {
   "cell_type": "markdown",
   "metadata": {
    "id": "fx_3gDLmO9c5"
   },
   "source": [
    "#### Insert the correct syntax to add a placeholder for the age parameter.\n",
    "\n"
   ]
  },
  {
   "cell_type": "code",
   "execution_count": 33,
   "metadata": {
    "id": "pbF00OzXO_pd"
   },
   "outputs": [
    {
     "name": "stdout",
     "output_type": "stream",
     "text": [
      "My name is John, and I am 36\n"
     ]
    }
   ],
   "source": [
    "age = 36\n",
    "txt= f\"My name is John, and I am {age}\"\n",
    "print(txt)"
   ]
  },
  {
   "cell_type": "markdown",
   "metadata": {
    "id": "aMfwLHLFQJt5"
   },
   "source": [
    "### Exercise on Booleans"
   ]
  },
  {
   "cell_type": "markdown",
   "metadata": {
    "id": "5LwqGd-4X6fz"
   },
   "source": [
    "The statement below would print a Boolean value, which one?\n",
    "\n"
   ]
  },
  {
   "cell_type": "code",
   "execution_count": 37,
   "metadata": {
    "id": "KE6bHyeFXwy_"
   },
   "outputs": [
    {
     "ename": "NameError",
     "evalue": "name 'true' is not defined",
     "output_type": "error",
     "traceback": [
      "\u001b[1;31m---------------------------------------------------------------------------\u001b[0m",
      "\u001b[1;31mNameError\u001b[0m                                 Traceback (most recent call last)",
      "Cell \u001b[1;32mIn[37], line 2\u001b[0m\n\u001b[0;32m      1\u001b[0m \u001b[38;5;66;03m# print(10 > 9)\u001b[39;00m\n\u001b[1;32m----> 2\u001b[0m true\n",
      "\u001b[1;31mNameError\u001b[0m: name 'true' is not defined"
     ]
    }
   ],
   "source": [
    "print(10 > 9)\n",
    "True"
   ]
  },
  {
   "cell_type": "markdown",
   "metadata": {
    "id": "5qq9bEvzX8d4"
   },
   "source": [
    "The statement below would print a Boolean value, which one?\n",
    "\n"
   ]
  },
  {
   "cell_type": "code",
   "execution_count": null,
   "metadata": {
    "id": "36MAoCaZX2k9"
   },
   "outputs": [],
   "source": [
    "print(10 == 9)\n",
    "False"
   ]
  },
  {
   "cell_type": "markdown",
   "metadata": {
    "id": "I9flckHvYFLD"
   },
   "source": [
    "The statement below would print a Boolean value, which one?\n",
    "\n"
   ]
  },
  {
   "cell_type": "code",
   "execution_count": null,
   "metadata": {
    "id": "vRTYkmrrYDcl"
   },
   "outputs": [],
   "source": [
    "print(10 < 9)\n",
    "False"
   ]
  },
  {
   "cell_type": "markdown",
   "metadata": {
    "id": "JRDSFOOWA4zY"
   },
   "source": [
    "### <font color='gold'>Exercise-1</font>"
   ]
  },
  {
   "cell_type": "markdown",
   "metadata": {
    "id": "Dx9awHoPBT5a"
   },
   "source": [
    "#### Write a Python program to print the following string in a specific format"
   ]
  },
  {
   "cell_type": "code",
   "execution_count": 62,
   "metadata": {
    "id": "gfBPq-8u_zDb"
   },
   "outputs": [
    {
     "name": "stdout",
     "output_type": "stream",
     "text": [
      "Twinkle, twinkle, little amer, How I wonder what you are! Up above the world so high, Like a diamond in the sky. Twinkle, twinkle, little amer How I wonder what you are!\n",
      "TWINKLE, TWINKLE, LITTLE AMER, HOW I WONDER WHAT YOU ARE! UP ABOVE THE WORLD SO HIGH, LIKE A DIAMOND IN THE SKY. TWINKLE, TWINKLE, LITTLE AMER HOW I WONDER WHAT YOU ARE!\n",
      "twinkle, twinkle, little amer, how i wonder what you are! up above the world so high, like a diamond in the sky. twinkle, twinkle, little amer how i wonder what you are!\n",
      "tWINKLE, TWINKLE, LITTLE AMER, hOW i WONDER WHAT YOU ARE! uP ABOVE THE WORLD SO HIGH, lIKE A DIAMOND IN THE SKY. tWINKLE, TWINKLE, LITTLE AMER hOW i WONDER WHAT YOU ARE!\n",
      "Twinkle, twinkle, little amer, how i wonder what you are! up above the world so high, like a diamond in the sky. twinkle, twinkle, little amer how i wonder what you are!\n",
      "Twinkle, Twinkle, Little Amer, How I Wonder What You Are! Up Above The World So High, Like A Diamond In The Sky. Twinkle, Twinkle, Little Amer How I Wonder What You Are!\n",
      "['Twinkle,', 'twinkle,', 'little', 'amer,', 'How', 'I', 'wonder', 'what', 'you', 'are!', 'Up', 'above', 'the', 'world', 'so', 'high,', 'Like', 'a', 'diamond', 'in', 'the', 'sky.', 'Twinkle,', 'twinkle,', 'little', 'amer', 'How', 'I', 'wonder', 'what', 'you', 'are!']\n",
      "Twinkle, twinkle, little amer, How I wonder what you are! Up above the world so high, Like a diamond in the sky. Twinkle, twinkle, little amer How I wonder what you are!\n",
      "9\n"
     ]
    }
   ],
   "source": [
    "xceed =\"Twinkle, twinkle, little star, How I wonder what you are! Up above the world so high, Like a diamond in the sky. Twinkle, twinkle, little star How I wonder what you are!\"\n",
    "xceed =xceed.replace(\"star\",\"amer\")\n",
    "xcced =' '.join(xceed)\n",
    "print(xceed)\n",
    "print(xceed.upper())\n",
    "print(xceed.lower())\n",
    "print(xceed.swapcase())\n",
    "print(xceed.capitalize())\n",
    "print(xceed.title())\n",
    "xceed=xceed.split()\n",
    "print(xceed)\n",
    "xceed =' '.join(xceed)\n",
    "print(xceed)\n",
    "print(xceed.count('a'))"
   ]
  },
  {
   "cell_type": "markdown",
   "metadata": {
    "id": "G-u5KbN6B4YA"
   },
   "source": [
    "### <font color='gold'>Exercise-2</font>"
   ]
  },
  {
   "cell_type": "markdown",
   "metadata": {
    "id": "1bEAep2SCDB2"
   },
   "source": [
    "#### Write a Python program that print the user's first and last name and prints them in reverse order with a space between them."
   ]
  },
  {
   "cell_type": "code",
   "execution_count": 75,
   "metadata": {},
   "outputs": [
    {
     "name": "stdin",
     "output_type": "stream",
     "text": [
      "enter your first name amer\n",
      "enter your last name sayed\n"
     ]
    },
    {
     "name": "stdout",
     "output_type": "stream",
     "text": [
      "sayed amer\n"
     ]
    }
   ],
   "source": [
    "Fname=input(\"enter your first name\")\n",
    "Lname=input(\"enter your last name\")\n",
    "print(Lname + \" \" +Fname)"
   ]
  },
  {
   "cell_type": "markdown",
   "metadata": {
    "id": "VIq-DlzYCjcp"
   },
   "source": [
    "### <font color='gold'>Exercise-3</font>"
   ]
  },
  {
   "cell_type": "markdown",
   "metadata": {
    "id": "W2i_oZiJCg4W"
   },
   "source": [
    "#### Write a Python program that calculates the area of a circle and radius = 1.1"
   ]
  },
  {
   "cell_type": "code",
   "execution_count": 126,
   "metadata": {},
   "outputs": [
    {
     "ename": "TypeError",
     "evalue": "can only concatenate str (not \"float\") to str",
     "output_type": "error",
     "traceback": [
      "\u001b[1;31m---------------------------------------------------------------------------\u001b[0m",
      "\u001b[1;31mTypeError\u001b[0m                                 Traceback (most recent call last)",
      "Cell \u001b[1;32mIn[126], line 3\u001b[0m\n\u001b[0;32m      1\u001b[0m radius\u001b[38;5;241m=\u001b[39m \u001b[38;5;241m1.1\u001b[39m\n\u001b[0;32m      2\u001b[0m area\u001b[38;5;241m=\u001b[39m \u001b[38;5;241m3.14\u001b[39m \u001b[38;5;241m*\u001b[39m radius \u001b[38;5;241m*\u001b[39m\u001b[38;5;241m*\u001b[39m\u001b[38;5;241m2\u001b[39m\n\u001b[1;32m----> 3\u001b[0m \u001b[38;5;28mprint\u001b[39m(\u001b[38;5;124m\"\u001b[39m\u001b[38;5;124marea is\u001b[39m\u001b[38;5;124m\"\u001b[39m \u001b[38;5;241m+\u001b[39marea)\n",
      "\u001b[1;31mTypeError\u001b[0m: can only concatenate str (not \"float\") to str"
     ]
    }
   ],
   "source": [
    "radius= 1.1\n",
    "area= 3.14 * radius **2\n",
    "print(\"area is\" +area)"
   ]
  },
  {
   "cell_type": "markdown",
   "metadata": {
    "id": "3k4J4MTrDTTP"
   },
   "source": [
    "### <font color='gold'>Exercise-4</font>"
   ]
  },
  {
   "cell_type": "markdown",
   "metadata": {
    "id": "bODhD33ADPPZ"
   },
   "source": [
    "#### Write a Python program that accepts a filename from the user and prints the extension of the file."
   ]
  },
  {
   "cell_type": "markdown",
   "metadata": {
    "id": "IjgH1FN-DYQQ"
   },
   "source": [
    "Sample Output:\n",
    "Input the Filename: abc.java                                                                                  \n",
    "The  extension of the file is : 'java'"
   ]
  },
  {
   "cell_type": "code",
   "execution_count": 93,
   "metadata": {},
   "outputs": [
    {
     "name": "stdout",
     "output_type": "stream",
     "text": [
      "extension of this file: xlsx\n"
     ]
    }
   ],
   "source": [
    "file = \"dd.xlsx\"\n",
    "andy =file.split('.')\n",
    "print(\"extension of this file: \" + andy[-1])"
   ]
  },
  {
   "cell_type": "markdown",
   "metadata": {
    "id": "hBSeDAHcEGPC"
   },
   "source": [
    "### <font color='gold'>Exercise-5</font>"
   ]
  },
  {
   "cell_type": "markdown",
   "metadata": {
    "id": "gnuQ4Hx2D722"
   },
   "source": [
    "#### Covert from string to list and tuple value =\"Amit\""
   ]
  },
  {
   "cell_type": "code",
   "execution_count": 97,
   "metadata": {},
   "outputs": [
    {
     "name": "stdout",
     "output_type": "stream",
     "text": [
      "('A', 'm', 'i', 't') ['A', 'm', 'i', 't']\n"
     ]
    }
   ],
   "source": [
    "value = \"Amit\"\n",
    "a = tuple(value)\n",
    "a_1= list(value)\n",
    "print(a,a_1)"
   ]
  },
  {
   "cell_type": "markdown",
   "metadata": {
    "id": "OQbk5DiyEosj"
   },
   "source": [
    " ## After that"
   ]
  },
  {
   "cell_type": "markdown",
   "metadata": {
    "id": "40fcwVkKEzUl"
   },
   "source": [
    "### Relace the index 3 in the list"
   ]
  },
  {
   "cell_type": "code",
   "execution_count": 104,
   "metadata": {},
   "outputs": [
    {
     "name": "stdout",
     "output_type": "stream",
     "text": [
      "['A', 'm', 'i', 'd']\n"
     ]
    }
   ],
   "source": [
    "a_1[3]='d'\n",
    "print(a_1)"
   ]
  },
  {
   "cell_type": "markdown",
   "metadata": {
    "id": "Ka4ECE3nFBzU"
   },
   "source": [
    " ### Convert the list to string and print the list"
   ]
  },
  {
   "cell_type": "code",
   "execution_count": 109,
   "metadata": {},
   "outputs": [
    {
     "name": "stdout",
     "output_type": "stream",
     "text": [
      "A m i d\n"
     ]
    }
   ],
   "source": [
    "sd =' '.join(a_1)\n",
    "print(sd)"
   ]
  },
  {
   "cell_type": "markdown",
   "metadata": {
    "id": "lpeuOl7cFmn4"
   },
   "source": [
    "### <font color='gold'>Exercise-6</font>"
   ]
  },
  {
   "cell_type": "markdown",
   "metadata": {
    "id": "RuREUX33FqQZ"
   },
   "source": [
    "#### Write a Python program to display the first and last colors from the following list.\n",
    "\n"
   ]
  },
  {
   "cell_type": "markdown",
   "metadata": {
    "id": "53ptUyHGFt9I"
   },
   "source": [
    "#### color_list = [\"Red\",\"Green\",\"White\" ,\"Black\"]\n",
    "\n"
   ]
  },
  {
   "cell_type": "markdown",
   "metadata": {
    "id": "Jl5tkntZGH4P"
   },
   "source": [
    "<img src=\"https://www.w3resource.com/w3r_images/python-basic-image-exercise-8.png\" alt=\"Italian Trulli\">\n"
   ]
  },
  {
   "cell_type": "code",
   "execution_count": 110,
   "metadata": {},
   "outputs": [
    {
     "name": "stdout",
     "output_type": "stream",
     "text": [
      "Red Black\n"
     ]
    }
   ],
   "source": [
    "color_list = [\"Red\",\"Green\",\"White\" ,\"Black\"]\n",
    "print(color_list[0],color_list[3])"
   ]
  },
  {
   "cell_type": "markdown",
   "metadata": {
    "id": "N7XOS7s1GlYW"
   },
   "source": [
    "## <font color='gold'>Exercise-7</font>"
   ]
  },
  {
   "cell_type": "markdown",
   "metadata": {
    "id": "atL1CkPLGhLS"
   },
   "source": [
    "#### Write a Python program to print the following 'here document'.\n",
    "\n"
   ]
  },
  {
   "cell_type": "code",
   "execution_count": 114,
   "metadata": {
    "id": "YcD6QUiSGgq0"
   },
   "outputs": [
    {
     "name": "stdout",
     "output_type": "stream",
     "text": [
      "Sample Output: a string that you \"don't\" have to escape This is a  ....... multi-line heredoc string --------> example\n"
     ]
    }
   ],
   "source": [
    "print(\"\"\"Sample Output: a string that you \"don't\" have to escape This is a  ....... multi-line heredoc string --------> example\"\"\")"
   ]
  },
  {
   "cell_type": "markdown",
   "metadata": {
    "id": "fUUhCO3Saeuy"
   },
   "source": [
    "## <font color='gold'>Exercise- 8</font>"
   ]
  },
  {
   "cell_type": "markdown",
   "metadata": {
    "id": "D_736VyMZcpE"
   },
   "source": [
    "###### I need to  check if  link `https://www.google.com/` strart with https or not and if the ` aimt4536@gmail.com` end with .com"
   ]
  },
  {
   "cell_type": "code",
   "execution_count": 125,
   "metadata": {},
   "outputs": [
    {
     "name": "stdout",
     "output_type": "stream",
     "text": [
      "True\n",
      "True\n"
     ]
    }
   ],
   "source": [
    "xc=\"https://www.google.com/ \"\n",
    "print(xc.startswith(\"https\"))\n",
    "we=\"aimt4536@gmail.com\"\n",
    "print(we.endswith(\".com\"))"
   ]
  },
  {
   "cell_type": "markdown",
   "metadata": {
    "id": "Mpx-aFeYbnqW"
   },
   "source": [
    "# Thanks ❤"
   ]
  },
  {
   "cell_type": "markdown",
   "metadata": {
    "id": "dO7ga00LbWSq"
   },
   "source": [
    "<img src=\"https://pbs.twimg.com/media/ELwC6EgXYAE8AtN.jpg\" alt=\"Italian Trulli\">\n"
   ]
  },
  {
   "cell_type": "code",
   "execution_count": null,
   "metadata": {
    "id": "hnMq3s6hbmCo"
   },
   "outputs": [],
   "source": []
  }
 ],
 "metadata": {
  "colab": {
   "private_outputs": true,
   "provenance": []
  },
  "kernelspec": {
   "display_name": "Python 3 (ipykernel)",
   "language": "python",
   "name": "python3"
  },
  "language_info": {
   "codemirror_mode": {
    "name": "ipython",
    "version": 3
   },
   "file_extension": ".py",
   "mimetype": "text/x-python",
   "name": "python",
   "nbconvert_exporter": "python",
   "pygments_lexer": "ipython3",
   "version": "3.11.7"
  }
 },
 "nbformat": 4,
 "nbformat_minor": 4
}
